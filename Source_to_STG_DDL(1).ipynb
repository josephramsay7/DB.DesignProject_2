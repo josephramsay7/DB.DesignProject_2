{
    "metadata": {
        "kernelspec": {
            "name": "SQL",
            "display_name": "SQL",
            "language": "sql"
        },
        "language_info": {
            "name": "sql",
            "version": ""
        }
    },
    "nbformat_minor": 2,
    "nbformat": 4,
    "cells": [
        {
            "cell_type": "code",
            "source": [
                "USE Flights_Reporting;\r\n",
                "GO\r\n",
                "\r\n",
                "\r\n",
                "\r\n",
                "IF NOT EXISTS (SELECT * FROM sys.schemas WHERE name = 'dim' ) \r\n",
                "BEGIN\r\n",
                "\tEXEC sp_executesql N'CREATE SCHEMA dim AUTHORIZATION dbo;'\r\n",
                "END;\r\n",
                "GO\r\n",
                "\r\n",
                "IF NOT EXISTS (SELECT * FROM sys.schemas WHERE name = 'stg' ) \r\n",
                "BEGIN\r\n",
                "\tEXEC sp_executesql N'CREATE SCHEMA stg AUTHORIZATION dbo;'\r\n",
                "END;\r\n",
                "GO\r\n",
                "\r\n",
                "IF NOT EXISTS (SELECT * FROM sys.schemas WHERE name = 'f' ) \r\n",
                "BEGIN\r\n",
                "\tEXEC sp_executesql N'CREATE SCHEMA f AUTHORIZATION dbo;'\r\n",
                "END;\r\n",
                "GO\r\n",
                "\r\n",
                "------------------------------------------------------------------------------------\r\n",
                "------------------------------------------------------------------------------------\r\n",
                "\r\n",
                "IF NOT EXISTS (SELECT * FROM INFORMATION_SCHEMA.TABLES WHERE TABLE_SCHEMA = 'stg' AND TABLE_NAME = 'FLIGHT_TABLE')\r\n",
                "BEGIN\r\n",
                "\tCREATE TABLE stg.FLIGHT_TABLE(\r\n",
                "\t\tFlightID INT Identity(1,1) NOT NUll\r\n",
                "\t\t, FlightDate DATE NOT NULL\r\n",
                "\t\t, fkAIRLINE varchar(5) NOT NULL\r\n",
                "\t\t, fkORIGIN_AIRPORT nvarchar(50) NOT NULL \r\n",
                "\t\t, DESTINATION_AIRPORT varchar(5) NOT NULL \r\n",
                "\t\t, Scheduled_Departure int NOT NULL  \r\n",
                "\t\t, Departure int NOT NULL  \r\n",
                "\t\t, Departure_Delay_min int NOT NULL\r\n",
                "\t\t, Scheduled_Arrival int NOT NULL \r\n",
                "\t\t, Arrival_time_local int NOT NULL\r\n",
                "\t\t, ARRIVAL_DELAY_min int NOT NULL\r\n",
                "\t\t, Flight_Length_min int\r\n",
                "\t\t, Total_Time int NOT NULL\r\n",
                "\t\t, DIVERTED int NULL\r\n",
                "\t\t, CANCELLED\tint NULL\r\n",
                "\t\t, CANCELLATION_Reason varchar(25) NULL\r\n",
                ");\r\n",
                "\tALTER TABLE stg.FLIGHT_TABLE\r\n",
                "\tADD CONSTRAINT pk_FlightID PRIMARY KEY(FlightID);\r\n",
                "END\r\n",
                "\r\n",
                "\r\n",
                "\r\n",
                "IF (SELECT COUNT(*) FROM stg.FLIGHT_TABLE) = 0\r\n",
                "\tBEGIN\r\n",
                "INSERT INTO stg.FLIGHT_TABLE(FlightDate, fkAIRLINE, FKORIGIN_AIRPORT, DESTINATION_AIRPORT, Scheduled_Departure, Departure, Departure_Delay_min, Scheduled_Arrival, Arrival_time_local, ARRIVAL_DELAY_min, Flight_Length_min, Total_Time, DIVERTED, CANCELLED, CANCELLATION_Reason)\r\n",
                "SELECT CAST(CONCAT(YEAR, '-',MONTH, '-', DAY)as DATE) 'FlightDate'\r\n",
                "\t\t, AIRLINE\r\n",
                "\t\t, ORIGIN_AIRPORT\r\n",
                "\t\t, DESTINATION_AIRPORT\r\n",
                "\t\t, SCHEDULED_DEPARTURE\r\n",
                "\t\t, DEPARTURE_TIME\r\n",
                "\t\t, DEPARTURE_DELAY\r\n",
                "\t\t, SCHEDULED_ARRIVAL\r\n",
                "\t\t, ARRIVAL_TIME\r\n",
                "\t\t, ARRIVAL_DELAY\r\n",
                "\t\t, AIR_TIME\r\n",
                "\t\t, ELAPSED_TIME\r\n",
                "\t\t, DIVERTED\r\n",
                "\t\t, CANCELLED\r\n",
                "\t\t, CANCELLATION_REASON\r\n",
                "FROM  Flights_Reporting.dbo.flights\r\n",
                "END\r\n",
                ""
            ],
            "metadata": {
                "azdata_cell_guid": "e93a5708-e62b-4d14-af95-9143d63512b3",
                "language": "sql"
            },
            "outputs": [
                {
                    "output_type": "display_data",
                    "data": {
                        "text/html": "Commands completed successfully."
                    },
                    "metadata": {}
                },
                {
                    "output_type": "display_data",
                    "data": {
                        "text/html": "Commands completed successfully."
                    },
                    "metadata": {}
                },
                {
                    "output_type": "display_data",
                    "data": {
                        "text/html": "Commands completed successfully."
                    },
                    "metadata": {}
                },
                {
                    "output_type": "display_data",
                    "data": {
                        "text/html": "Commands completed successfully."
                    },
                    "metadata": {}
                },
                {
                    "output_type": "display_data",
                    "data": {
                        "text/html": "(1 row affected)"
                    },
                    "metadata": {}
                },
                {
                    "output_type": "display_data",
                    "data": {
                        "text/html": "Total execution time: 00:00:00.064"
                    },
                    "metadata": {}
                },
                {
                    "output_type": "execute_result",
                    "metadata": {},
                    "execution_count": 2,
                    "data": {
                        "application/vnd.dataresource+json": {
                            "schema": {
                                "fields": [
                                    {
                                        "name": "(No column name)"
                                    }
                                ]
                            },
                            "data": [
                                {
                                    "(No column name)": "5819079"
                                }
                            ]
                        },
                        "text/html": [
                            "<table>",
                            "<tr><th>(No column name)</th></tr>",
                            "<tr><td>5819079</td></tr>",
                            "</table>"
                        ]
                    }
                }
            ],
            "execution_count": 2
        }
    ]
}